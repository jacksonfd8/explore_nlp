{
 "cells": [
  {
   "cell_type": "markdown",
   "metadata": {},
   "source": [
    "# Draft Analysis - Ikoria Set"
   ]
  },
  {
   "cell_type": "markdown",
   "metadata": {},
   "source": [
    "- Data set: https://docs.google.com/spreadsheets/d/1dU6MG1CNBz2TOvhIheBumH7Mumc7CS7dDmHDpLLaEa0/edit#gid=0"
   ]
  },
  {
   "cell_type": "markdown",
   "metadata": {},
   "source": [
    "## Read in Data"
   ]
  },
  {
   "cell_type": "code",
   "execution_count": 1,
   "metadata": {},
   "outputs": [],
   "source": [
    "# Import libraries\n",
    "import numpy as np\n",
    "import pandas as pd\n",
    "import warnings\n",
    "warnings.filterwarnings(\"ignore\")\n",
    "\n",
    "df = pd.read_csv(\"ikoria.csv\", sep = ',')"
   ]
  },
  {
   "cell_type": "code",
   "execution_count": 2,
   "metadata": {},
   "outputs": [
    {
     "data": {
      "text/html": [
       "<div>\n",
       "<style scoped>\n",
       "    .dataframe tbody tr th:only-of-type {\n",
       "        vertical-align: middle;\n",
       "    }\n",
       "\n",
       "    .dataframe tbody tr th {\n",
       "        vertical-align: top;\n",
       "    }\n",
       "\n",
       "    .dataframe thead th {\n",
       "        text-align: right;\n",
       "    }\n",
       "</style>\n",
       "<table border=\"1\" class=\"dataframe\">\n",
       "  <thead>\n",
       "    <tr style=\"text-align: right;\">\n",
       "      <th></th>\n",
       "      <th>Date</th>\n",
       "      <th>Colors</th>\n",
       "      <th>Wins</th>\n",
       "      <th>Losses</th>\n",
       "      <th>Player</th>\n",
       "      <th>Notes</th>\n",
       "      <th>Unnamed: 6</th>\n",
       "      <th>Unnamed: 7</th>\n",
       "      <th>Unnamed: 8</th>\n",
       "    </tr>\n",
       "  </thead>\n",
       "  <tbody>\n",
       "    <tr>\n",
       "      <td>0</td>\n",
       "      <td>4/25/2020</td>\n",
       "      <td>UG</td>\n",
       "      <td>3</td>\n",
       "      <td>3</td>\n",
       "      <td>SL</td>\n",
       "      <td>premier draft, decked myself, flooded, or didn...</td>\n",
       "      <td>NaN</td>\n",
       "      <td>NaN</td>\n",
       "      <td>NaN</td>\n",
       "    </tr>\n",
       "    <tr>\n",
       "      <td>1</td>\n",
       "      <td>4/25/2020</td>\n",
       "      <td>UGR</td>\n",
       "      <td>2</td>\n",
       "      <td>4</td>\n",
       "      <td>SL</td>\n",
       "      <td>went 1 - 2, you play a total of 3 matches no m...</td>\n",
       "      <td>NaN</td>\n",
       "      <td>NaN</td>\n",
       "      <td>NaN</td>\n",
       "    </tr>\n",
       "    <tr>\n",
       "      <td>2</td>\n",
       "      <td>4/25/2020</td>\n",
       "      <td>WURG</td>\n",
       "      <td>3</td>\n",
       "      <td>3</td>\n",
       "      <td>SL</td>\n",
       "      <td>Cycleing nonsense.  considered builing around ...</td>\n",
       "      <td>NaN</td>\n",
       "      <td>NaN</td>\n",
       "      <td>NaN</td>\n",
       "    </tr>\n",
       "    <tr>\n",
       "      <td>3</td>\n",
       "      <td>4/26/2020</td>\n",
       "      <td>UGRb</td>\n",
       "      <td>5</td>\n",
       "      <td>3</td>\n",
       "      <td>SL</td>\n",
       "      <td>Had temur mutate mythic with 6/6 trample rare,...</td>\n",
       "      <td>NaN</td>\n",
       "      <td>NaN</td>\n",
       "      <td>NaN</td>\n",
       "    </tr>\n",
       "    <tr>\n",
       "      <td>4</td>\n",
       "      <td>4/26/2020</td>\n",
       "      <td>BW</td>\n",
       "      <td>7</td>\n",
       "      <td>2</td>\n",
       "      <td>SL</td>\n",
       "      <td>First picked 3/3 white rare, no BW payoffs, go...</td>\n",
       "      <td>NaN</td>\n",
       "      <td>NaN</td>\n",
       "      <td>NaN</td>\n",
       "    </tr>\n",
       "    <tr>\n",
       "      <td>5</td>\n",
       "      <td>4/26/2020</td>\n",
       "      <td>URw</td>\n",
       "      <td>3</td>\n",
       "      <td>3</td>\n",
       "      <td>SL</td>\n",
       "      <td>Jeskai Ultamatum! , playing against mythics, l...</td>\n",
       "      <td>NaN</td>\n",
       "      <td>NaN</td>\n",
       "      <td>NaN</td>\n",
       "    </tr>\n",
       "    <tr>\n",
       "      <td>6</td>\n",
       "      <td>4/26/2020</td>\n",
       "      <td>RWb</td>\n",
       "      <td>3</td>\n",
       "      <td>3</td>\n",
       "      <td>EK</td>\n",
       "      <td>3 zenith flares + flooding = sad times</td>\n",
       "      <td>NaN</td>\n",
       "      <td>NaN</td>\n",
       "      <td>NaN</td>\n",
       "    </tr>\n",
       "    <tr>\n",
       "      <td>7</td>\n",
       "      <td>4/26/2020</td>\n",
       "      <td>GBw</td>\n",
       "      <td>7</td>\n",
       "      <td>1</td>\n",
       "      <td>EK</td>\n",
       "      <td>Big dudes that comes back from the graveyard. ...</td>\n",
       "      <td>NaN</td>\n",
       "      <td>NaN</td>\n",
       "      <td>NaN</td>\n",
       "    </tr>\n",
       "    <tr>\n",
       "      <td>8</td>\n",
       "      <td>4/26/2020</td>\n",
       "      <td>BW</td>\n",
       "      <td>7</td>\n",
       "      <td>2</td>\n",
       "      <td>EK</td>\n",
       "      <td>Humans working together</td>\n",
       "      <td>NaN</td>\n",
       "      <td>NaN</td>\n",
       "      <td>NaN</td>\n",
       "    </tr>\n",
       "    <tr>\n",
       "      <td>9</td>\n",
       "      <td>4/27/2020</td>\n",
       "      <td>UB</td>\n",
       "      <td>6</td>\n",
       "      <td>3</td>\n",
       "      <td>EK</td>\n",
       "      <td>Blue black flash-ish. Keruga + capture spheres...</td>\n",
       "      <td>NaN</td>\n",
       "      <td>NaN</td>\n",
       "      <td>NaN</td>\n",
       "    </tr>\n",
       "  </tbody>\n",
       "</table>\n",
       "</div>"
      ],
      "text/plain": [
       "        Date Colors  Wins  Losses Player  \\\n",
       "0  4/25/2020     UG     3       3     SL   \n",
       "1  4/25/2020    UGR     2       4     SL   \n",
       "2  4/25/2020   WURG     3       3     SL   \n",
       "3  4/26/2020   UGRb     5       3     SL   \n",
       "4  4/26/2020     BW     7       2     SL   \n",
       "5  4/26/2020    URw     3       3     SL   \n",
       "6  4/26/2020    RWb     3       3     EK   \n",
       "7  4/26/2020    GBw     7       1     EK   \n",
       "8  4/26/2020     BW     7       2     EK   \n",
       "9  4/27/2020     UB     6       3     EK   \n",
       "\n",
       "                                               Notes Unnamed: 6  Unnamed: 7  \\\n",
       "0  premier draft, decked myself, flooded, or didn...        NaN         NaN   \n",
       "1  went 1 - 2, you play a total of 3 matches no m...        NaN         NaN   \n",
       "2  Cycleing nonsense.  considered builing around ...        NaN         NaN   \n",
       "3  Had temur mutate mythic with 6/6 trample rare,...        NaN         NaN   \n",
       "4  First picked 3/3 white rare, no BW payoffs, go...        NaN         NaN   \n",
       "5  Jeskai Ultamatum! , playing against mythics, l...        NaN         NaN   \n",
       "6             3 zenith flares + flooding = sad times        NaN         NaN   \n",
       "7  Big dudes that comes back from the graveyard. ...        NaN         NaN   \n",
       "8                            Humans working together        NaN         NaN   \n",
       "9  Blue black flash-ish. Keruga + capture spheres...        NaN         NaN   \n",
       "\n",
       "  Unnamed: 8  \n",
       "0        NaN  \n",
       "1        NaN  \n",
       "2        NaN  \n",
       "3        NaN  \n",
       "4        NaN  \n",
       "5        NaN  \n",
       "6        NaN  \n",
       "7        NaN  \n",
       "8        NaN  \n",
       "9        NaN  "
      ]
     },
     "execution_count": 2,
     "metadata": {},
     "output_type": "execute_result"
    }
   ],
   "source": [
    "df.head(10)"
   ]
  },
  {
   "cell_type": "code",
   "execution_count": 3,
   "metadata": {},
   "outputs": [],
   "source": [
    "from sklearn.feature_extraction.text import CountVectorizer\n",
    "\n",
    "# Create a function that will require top words and their frequency count\n",
    "\n",
    "def get_top_words(corpus, n=None):\n",
    "    \n",
    "    vec = CountVectorizer(stop_words = 'english').fit(corpus)\n",
    "    bag_of_words = vec.transform(corpus)\n",
    "    words_sum = bag_of_words.sum(axis=0) \n",
    "    \n",
    "    words_freq = [(w, words_sum[0, idx]) for w, idx in vec.vocabulary_.items()]\n",
    "    words_freq = sorted(words_freq, key = lambda x: x[1], reverse=True)\n",
    "    \n",
    "    return words_freq[:n]"
   ]
  },
  {
   "cell_type": "markdown",
   "metadata": {},
   "source": [
    "# What types of decks do Eamonn and Stephen like drafting?"
   ]
  },
  {
   "cell_type": "code",
   "execution_count": 4,
   "metadata": {},
   "outputs": [],
   "source": [
    "top_draft_keywords = get_top_words(df['Notes'], 10)"
   ]
  },
  {
   "cell_type": "code",
   "execution_count": 5,
   "metadata": {},
   "outputs": [
    {
     "data": {
      "text/plain": [
       "[('mardu', 9),\n",
       " ('companion', 7),\n",
       " ('fixing', 7),\n",
       " ('ultimatum', 7),\n",
       " ('lord', 6),\n",
       " ('mutate', 5),\n",
       " ('black', 5),\n",
       " ('cycling', 5),\n",
       " ('just', 4),\n",
       " ('deck', 4)]"
      ]
     },
     "execution_count": 5,
     "metadata": {},
     "output_type": "execute_result"
    }
   ],
   "source": [
    "top_draft_keywords"
   ]
  },
  {
   "cell_type": "markdown",
   "metadata": {},
   "source": [
    "## Eamonn"
   ]
  },
  {
   "cell_type": "code",
   "execution_count": 6,
   "metadata": {},
   "outputs": [],
   "source": [
    "eamonn_df = df[df['Player'] == 'EK']"
   ]
  },
  {
   "cell_type": "code",
   "execution_count": 7,
   "metadata": {},
   "outputs": [],
   "source": [
    "eamonn_draft_style = get_top_words(eamonn_df['Notes'], 10)"
   ]
  },
  {
   "cell_type": "code",
   "execution_count": 8,
   "metadata": {},
   "outputs": [
    {
     "data": {
      "text/plain": [
       "[('mardu', 5),\n",
       " ('king', 4),\n",
       " ('lord', 4),\n",
       " ('cycling', 3),\n",
       " ('ultimatum', 3),\n",
       " ('weaponize', 3),\n",
       " ('monsters', 3),\n",
       " ('zenith', 2),\n",
       " ('big', 2),\n",
       " ('kong', 2)]"
      ]
     },
     "execution_count": 8,
     "metadata": {},
     "output_type": "execute_result"
    }
   ],
   "source": [
    "eamonn_draft_style"
   ]
  },
  {
   "cell_type": "markdown",
   "metadata": {},
   "source": [
    "## Stephen"
   ]
  },
  {
   "cell_type": "code",
   "execution_count": 9,
   "metadata": {},
   "outputs": [],
   "source": [
    "steph_df = df[df['Player'] == 'SL']"
   ]
  },
  {
   "cell_type": "code",
   "execution_count": 10,
   "metadata": {},
   "outputs": [],
   "source": [
    "steph_draft_style = get_top_words(steph_df['Notes'], 10)"
   ]
  },
  {
   "cell_type": "code",
   "execution_count": 11,
   "metadata": {},
   "outputs": [
    {
     "data": {
      "text/plain": [
       "[('companion', 6),\n",
       " ('fixing', 6),\n",
       " ('mutate', 5),\n",
       " ('just', 4),\n",
       " ('rare', 4),\n",
       " ('mardu', 4),\n",
       " ('ultimatum', 4),\n",
       " ('play', 3),\n",
       " ('deck', 3),\n",
       " ('mana', 3)]"
      ]
     },
     "execution_count": 11,
     "metadata": {},
     "output_type": "execute_result"
    }
   ],
   "source": [
    "steph_draft_style"
   ]
  },
  {
   "cell_type": "markdown",
   "metadata": {},
   "source": [
    "## Wins UNDER 4 -- What were the trends?"
   ]
  },
  {
   "cell_type": "code",
   "execution_count": 15,
   "metadata": {},
   "outputs": [],
   "source": [
    "baddrafts_df = df[df['Wins'] < 4]"
   ]
  },
  {
   "cell_type": "code",
   "execution_count": 16,
   "metadata": {},
   "outputs": [],
   "source": [
    "baddrafts_top_words = get_top_words(baddrafts_df['Notes'], 10)"
   ]
  },
  {
   "cell_type": "code",
   "execution_count": 17,
   "metadata": {},
   "outputs": [
    {
     "data": {
      "text/plain": [
       "[('lord', 4),\n",
       " ('didn', 3),\n",
       " ('mutate', 3),\n",
       " ('just', 3),\n",
       " ('companion', 3),\n",
       " ('cycling', 3),\n",
       " ('trap', 3),\n",
       " ('mardu', 3),\n",
       " ('ultimatum', 3),\n",
       " ('flash', 3)]"
      ]
     },
     "execution_count": 17,
     "metadata": {},
     "output_type": "execute_result"
    }
   ],
   "source": [
    "baddrafts_top_words"
   ]
  },
  {
   "cell_type": "markdown",
   "metadata": {},
   "source": [
    "## Wins OVER 4 -- What were the trends?"
   ]
  },
  {
   "cell_type": "code",
   "execution_count": 12,
   "metadata": {},
   "outputs": [],
   "source": [
    "greatwins_df = df[df['Wins'] >= 4]"
   ]
  },
  {
   "cell_type": "code",
   "execution_count": 13,
   "metadata": {},
   "outputs": [],
   "source": [
    "greatwins_top_words = get_top_words(greatwins_df['Notes'], 10)"
   ]
  },
  {
   "cell_type": "code",
   "execution_count": 14,
   "metadata": {},
   "outputs": [
    {
     "data": {
      "text/plain": [
       "[('fixing', 6),\n",
       " ('mardu', 6),\n",
       " ('companion', 4),\n",
       " ('ultimatum', 4),\n",
       " ('rare', 3),\n",
       " ('black', 3),\n",
       " ('got', 3),\n",
       " ('white', 3),\n",
       " ('uncommon', 3),\n",
       " ('good', 3)]"
      ]
     },
     "execution_count": 14,
     "metadata": {},
     "output_type": "execute_result"
    }
   ],
   "source": [
    "greatwins_top_words"
   ]
  },
  {
   "cell_type": "markdown",
   "metadata": {},
   "source": [
    "# Conclusions!"
   ]
  },
  {
   "cell_type": "markdown",
   "metadata": {},
   "source": [
    "- Eamonn really likes Mardu and Kings+Lords (perhaps it's his affection for our Lord and King -- Jesus Christ)\n",
    "- Stephen is a sucker for companions and mutate decks. He seems to prioritizes fixing.\n",
    "- What do they have in common? They both really like ultimatums.\n",
    "\n",
    "Looking at the deck statistics that got **LESS THAN 4 wins**, the most prominent keywords were: **lord, mutate, cycling, flash**\n",
    "- Lords seemed to suck\n",
    "- Mutate seems whack\n",
    "- Cycling seems whack\n",
    "- Flash mechanic sucks (as I observed yday)\n",
    "\n",
    "Looking at the deck statistics that got **MORE THAN 4 wins**, the most prominent keywords were: **fixing, mardu**\n",
    "- So fixing was important in this set.\n",
    "- Perhaps mardu-aggro decks can win games quick in this set.\n",
    "\n",
    "**Between all decks..**\n",
    "- Bombs (companions, ultimatums) were in both **(less than 4 wins)** and **(more than 4 wins)**\n",
    "    - What this means to me is that bombs aren't the \"automatic win condition\" but perhaps they need to be backed up well with the structure of the rest of the deck (commons, uncommons)"
   ]
  }
 ],
 "metadata": {
  "kernelspec": {
   "display_name": "Python [conda env:root] *",
   "language": "python",
   "name": "conda-root-py"
  },
  "language_info": {
   "codemirror_mode": {
    "name": "ipython",
    "version": 3
   },
   "file_extension": ".py",
   "mimetype": "text/x-python",
   "name": "python",
   "nbconvert_exporter": "python",
   "pygments_lexer": "ipython3",
   "version": "3.7.4"
  }
 },
 "nbformat": 4,
 "nbformat_minor": 2
}
